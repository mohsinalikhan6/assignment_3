{
 "cells": [
  {
   "cell_type": "code",
   "execution_count": 2,
   "id": "18a59883",
   "metadata": {},
   "outputs": [
    {
     "name": "stdout",
     "output_type": "stream",
     "text": [
      "Twinkle,twinkle, little star,\n",
      " \tHow I wonder what you are! \n",
      "\t\tUp above the world so high,\n",
      "\t\tLike a diamond in the sky.\n",
      "Twinkle,twinkle,little star,\n",
      "\tHow I Wonder what you are\n"
     ]
    }
   ],
   "source": [
    "# Q1: Print String in a specific format?\n",
    "print(\"Twinkle,twinkle, little star,\\n \\tHow I wonder what you are! \\n\\t\\tUp above the world so high,\\n\\t\\tLike a diamond in the sky.\\nTwinkle,twinkle,little star,\\n\\tHow I Wonder what you are\")"
   ]
  },
  {
   "cell_type": "code",
   "execution_count": 97,
   "id": "2764c3c6",
   "metadata": {},
   "outputs": [
    {
     "name": "stdout",
     "output_type": "stream",
     "text": [
      "The version of Python is:\n",
      " 3.8.8 (default, Apr 13 2021, 15:08:03) [MSC v.1916 64 bit (AMD64)]\n"
     ]
    }
   ],
   "source": [
    "# Q2: Get Python version you are using?\n",
    "import sys\n",
    "print(\"The version of Python is:\\n\",sys.version)"
   ]
  },
  {
   "cell_type": "code",
   "execution_count": 28,
   "id": "9d4759b8",
   "metadata": {},
   "outputs": [
    {
     "name": "stdout",
     "output_type": "stream",
     "text": [
      "The Date is: 23-10-21\n",
      "The Time is: 10:53:11\n"
     ]
    }
   ],
   "source": [
    "# Q3: Display current Date and Time?\n",
    "import datetime\n",
    "today = datetime.datetime.today()\n",
    "# print(today.strftime(\"%y-%m-%d %H:%M:%S\"))\n",
    "print('The Date is:',today.strftime(\"%d-%m-%y\"))\n",
    "print('The Time is:',today.strftime(\"%H:%M:%S\"))"
   ]
  },
  {
   "cell_type": "code",
   "execution_count": 106,
   "id": "50048662",
   "metadata": {},
   "outputs": [
    {
     "name": "stdout",
     "output_type": "stream",
     "text": [
      "Enter the radius of circle = 1.1\n",
      "Area of Circle is : 3.8013271108436504\n"
     ]
    }
   ],
   "source": [
    "# Q4: Input Area from User and Calculate the Radius of the Circle\n",
    "from math import pi\n",
    "r = float(input(\"Enter the radius of circle = \"))\n",
    "#formula of Area\n",
    "a = pi*r**2\n",
    "print(\"Area of Circle is :\",a)"
   ]
  },
  {
   "cell_type": "code",
   "execution_count": 29,
   "id": "91b29fd9",
   "metadata": {},
   "outputs": [
    {
     "name": "stdout",
     "output_type": "stream",
     "text": [
      "Enter First Name: Mohsin\n",
      "Enter Last Name: Ali\n",
      "Your Name in Reverse Order is: Ali Mohsin\n"
     ]
    }
   ],
   "source": [
    "# Q5: Input user FirstName and LastName and Print them in Reverse Order?\n",
    "fname= input(\"Enter First Name: \")\n",
    "lname = input(\"Enter Last Name: \")\n",
    "print(\"Your Name in Reverse Order is:\",lname , fname)"
   ]
  },
  {
   "cell_type": "code",
   "execution_count": 116,
   "id": "33a6800c",
   "metadata": {},
   "outputs": [
    {
     "name": "stdout",
     "output_type": "stream",
     "text": [
      "Enter First Number 30\n",
      "Enter Second Number 30\n",
      "Total Sum is: 60\n"
     ]
    }
   ],
   "source": [
    "# Q6: Take two Input from User and then addtion it?\n",
    "first = int(input(\"Enter First Number \"))\n",
    "second = int(input(\"Enter Second Number \"))\n",
    "print('Total Sum is:',first + second)"
   ]
  },
  {
   "cell_type": "code",
   "execution_count": 92,
   "id": "e81e7e01",
   "metadata": {},
   "outputs": [
    {
     "name": "stdout",
     "output_type": "stream",
     "text": [
      "English marks is 56\n",
      "Urdu marks is 56\n",
      "Science marks is 54\n",
      "Islamiate marks is 56\n",
      "Maths marks is 56\n",
      "Your Total Marks is: 278\n",
      "55\n",
      "Your Grade is D\n"
     ]
    }
   ],
   "source": [
    "# Q7: Input five subjects marks and total it and genertate grade?\n",
    "english = int(input(\"English marks is \"));\n",
    "if english > 100:\n",
    "    print(\"write correct marks\");\n",
    "    \n",
    "urdu = int(input(\"Urdu marks is \"));\n",
    "if urdu > 100:\n",
    "    print(\"write correct marks\");\n",
    "    \n",
    "science = int(input(\"Science marks is \"));\n",
    "if science > 100:\n",
    "    print(\"write correct marks\");\n",
    "    \n",
    "islamiate = int(input(\"Islamiate marks is \"));\n",
    "if islamiate > 100:\n",
    "    print(\"write correct marks\");\n",
    "    \n",
    "maths = int(input(\"Maths marks is \"));\n",
    "if maths > 100:\n",
    "    print(\"Write correct marks\");\n",
    "    \n",
    "total = english + urdu + science + islamiate + maths;\n",
    "print (\"Your Total Marks is:\" , total)\n",
    "\n",
    "percentage = total/500 * 100;\n",
    "print(int(percentage))\n",
    "\n",
    "if percentage > 100:\n",
    "    print(\"Write correct Marks\");\n",
    "elif percentage >= 90:\n",
    "    print(\"Your Grade is A+\");\n",
    "    \n",
    "elif percentage >= 80:\n",
    "    print(\"Your Grade is A\");\n",
    "    \n",
    "elif percentage >= 70:\n",
    "    print(\"Your Grade is B\");\n",
    "    \n",
    "elif percentage >= 60:\n",
    "    print(\"Your Grade is C\");\n",
    "    \n",
    "elif percentage >= 50:\n",
    "    print(\"Your Grade is D\");\n",
    "    \n",
    "elif percentage >= 33:\n",
    "    print(\"Your Grade is E\");\n",
    "    \n",
    "else:\n",
    "    print(\"You are fail\");"
   ]
  },
  {
   "cell_type": "code",
   "execution_count": 81,
   "id": "08a2562f",
   "metadata": {},
   "outputs": [
    {
     "name": "stdout",
     "output_type": "stream",
     "text": [
      "Enter the number: 315\n",
      "1\n",
      "Your Number is Odd\n"
     ]
    }
   ],
   "source": [
    "# Q8: Take Input from user and Identify number is Even or Odd?\n",
    "number = int(input(\"Enter the number: \"))\n",
    "verify= number % 2\n",
    "print(verify)\n",
    "if verify <= 0:\n",
    "    print(\"Your Number is Even\")\n",
    "else:\n",
    "        print(\"Your Number is Odd\")"
   ]
  },
  {
   "cell_type": "code",
   "execution_count": 130,
   "id": "612dc68c",
   "metadata": {},
   "outputs": [
    {
     "name": "stdout",
     "output_type": "stream",
     "text": [
      "[3, 4, 1, 65, 56, 6, 7, 5, True, 'Ali']\n",
      "The Length of the list is: 10\n"
     ]
    }
   ],
   "source": [
    "# Q9: Print Length of List?\n",
    "list1 = [3,4,1,65,56,6,7,5,True,\"Ali\"]\n",
    "print(list1)\n",
    "print(\"The Length of the list is:\",len(list1))"
   ]
  },
  {
   "cell_type": "code",
   "execution_count": 3,
   "id": "0aff7aed",
   "metadata": {},
   "outputs": [
    {
     "name": "stdout",
     "output_type": "stream",
     "text": [
      "[3, 4, 1, 65, 56, 6, 7, 500]\n",
      "642\n"
     ]
    }
   ],
   "source": [
    "# Q10: Sum All the Numeric items in a List?\n",
    "list1 = [3,4,1,65,56,6,7,500]\n",
    "print(list1)\n",
    "print(sum(list1))"
   ]
  },
  {
   "cell_type": "code",
   "execution_count": 31,
   "id": "9cb1964e",
   "metadata": {},
   "outputs": [
    {
     "name": "stdout",
     "output_type": "stream",
     "text": [
      "[1, 20, 30, 40, 50, 650, 62, 50, 100]\n",
      "650\n"
     ]
    }
   ],
   "source": [
    "# Q11: Get the Largest Number in the Numeric List?\n",
    "num_List = [1,20,30,40,50,650,62,50,100]\n",
    "print (num_List)\n",
    "print (max(num_List))"
   ]
  },
  {
   "cell_type": "code",
   "execution_count": 32,
   "id": "8748f7e0",
   "metadata": {},
   "outputs": [
    {
     "name": "stdout",
     "output_type": "stream",
     "text": [
      "[2, 3, 1, 0, 0.001, 0.1, 4.9]\n"
     ]
    }
   ],
   "source": [
    "# Q12: Print out all the elements that are less than 5?\n",
    "num_list = [30,50,2,3,6,7,1,0,0.001,0.1,4.9,5]\n",
    "result_list = [elements for elements in num_list if elements < 5]\n",
    "print(result_list)"
   ]
  },
  {
   "cell_type": "code",
   "execution_count": null,
   "id": "d884b5f8",
   "metadata": {},
   "outputs": [],
   "source": []
  }
 ],
 "metadata": {
  "kernelspec": {
   "display_name": "Python 3",
   "language": "python",
   "name": "python3"
  },
  "language_info": {
   "codemirror_mode": {
    "name": "ipython",
    "version": 3
   },
   "file_extension": ".py",
   "mimetype": "text/x-python",
   "name": "python",
   "nbconvert_exporter": "python",
   "pygments_lexer": "ipython3",
   "version": "3.8.8"
  }
 },
 "nbformat": 4,
 "nbformat_minor": 5
}
